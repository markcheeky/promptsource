{
 "cells": [
  {
   "cell_type": "code",
   "execution_count": 2,
   "metadata": {},
   "outputs": [],
   "source": [
    "import json\n",
    "\n",
    "from pathlib import Path"
   ]
  },
  {
   "cell_type": "code",
   "execution_count": 3,
   "metadata": {},
   "outputs": [],
   "source": [
    "def load_jsonl(path: Path) -> list[dict]:\n",
    "    with open(path) as file:\n",
    "        return [json.loads(line) for line in file.readlines()]"
   ]
  },
  {
   "cell_type": "code",
   "execution_count": 42,
   "metadata": {},
   "outputs": [],
   "source": [
    "part = 4\n",
    "devset = load_jsonl(f\"../data/cs/cered/CERED{part}_DEVSET\")\n",
    "labels = dict(load_jsonl(f\"../data/cs/cered/CERED{part}_LABELS\")[0])"
   ]
  },
  {
   "cell_type": "code",
   "execution_count": 43,
   "metadata": {},
   "outputs": [
    {
     "data": {
      "text/plain": [
       "dict_keys(['Sentence', 'E1', 'E2', 'Rel', 'Readable', 'WikiArticle'])"
      ]
     },
     "execution_count": 43,
     "metadata": {},
     "output_type": "execute_result"
    }
   ],
   "source": [
    "example = devset[0]\n",
    "assert all(e.keys() == example.keys() for e in devset)\n",
    "example.keys()"
   ]
  },
  {
   "cell_type": "code",
   "execution_count": 44,
   "metadata": {},
   "outputs": [
    {
     "data": {
      "text/plain": [
       "'Vyšla jako pokračování [E1] Final Fantasy X [/E1] ( FF X ) v roce 2003 a je tak vůbec prvním pokračováním příběhu kteréhokoliv dílu série [E2] Final Fantasy [/E2] .'"
      ]
     },
     "execution_count": 44,
     "metadata": {},
     "output_type": "execute_result"
    }
   ],
   "source": [
    "\" \".join(example[\"Sentence\"])"
   ]
  },
  {
   "cell_type": "code",
   "execution_count": 45,
   "metadata": {},
   "outputs": [
    {
     "data": {
      "text/plain": [
       "('Q223381', 'Q189842')"
      ]
     },
     "execution_count": 45,
     "metadata": {},
     "output_type": "execute_result"
    }
   ],
   "source": [
    "example[\"E1\"], example[\"E2\"]"
   ]
  },
  {
   "cell_type": "code",
   "execution_count": 46,
   "metadata": {},
   "outputs": [
    {
     "data": {
      "text/plain": [
       "('P179', 'Final Fantasy X seriál Final Fantasy')"
      ]
     },
     "execution_count": 46,
     "metadata": {},
     "output_type": "execute_result"
    }
   ],
   "source": [
    "example[\"Rel\"], example[\"Readable\"]"
   ]
  },
  {
   "cell_type": "code",
   "execution_count": 47,
   "metadata": {},
   "outputs": [
    {
     "data": {
      "text/plain": [
       "'977058'"
      ]
     },
     "execution_count": 47,
     "metadata": {},
     "output_type": "execute_result"
    }
   ],
   "source": [
    "example[\"WikiArticle\"]"
   ]
  },
  {
   "cell_type": "code",
   "execution_count": 51,
   "metadata": {},
   "outputs": [
    {
     "name": "stdout",
     "output_type": "stream",
     "text": [
      "Vyšla jako pokračování [E1] Final Fantasy X [/E1] ( FF X ) v roce 2003 a je tak vůbec prvním pokračováním příběhu kteréhokoliv dílu série [E2] Final Fantasy [/E2] .\n",
      "  ->  Final Fantasy X seriál Final Fantasy\n",
      "   seriál\n",
      "Narodil se 13 . září 1812 v [E2] Hradci Králové [/E2] s křestním jménem Jan jako nejstarší syn tiskaře a nakladatele [E1] Jana Hostivíta Pospíšila [/E1] .\n",
      "  ->  Jana Hostivíta Pospíšila místo úmrtí Hradci Králové\n",
      "   místo úmrtí\n",
      "Narodila se , stejně jako její bratr Wolfgang , v domě č . 9 salcburské ulice Getreidegasse , jako čtvrté dítě [E2] Anny Marie [/E2] a [E1] Leopolda [/E1] Mozartových .\n",
      "  ->  Leopolda manžel Anny Marie\n",
      "   manžel\n",
      "Cirion byl vládnoucí [E1] gondorský [/E1] [E2] správce [/E2] , který věnoval severozápadní území Gondoru , zvané Calenardhon ( pozdější Rohan ) Eorlovcům odměnou za jejich činy na bojišti .\n",
      "  ->  gondorský other správce\n",
      "   other\n",
      "Předlohou k filmu byl román [E1] Nebezpečné známosti [/E1] francouzského spisovatele [E2] Choderlose de Laclose [/E2] z roku 1782 .\n",
      "  ->  Nebezpečné známosti autor Choderlose de Laclose\n",
      "   autor\n",
      "Právník a spisovatel [E2] Ferdinand von Schirach [/E2] , esejistka a filozofka Ariadne von Schirach a spisovatel [E1] Benedict Wells [/E1] jsou jeho vnuci .\n",
      "  ->  Benedict Wells other Ferdinand von Schirach\n",
      "   other\n",
      "Vedle viditelných komponent , jako například X window managers , jsou také důležité neviditelné programy , které hostují freedesktop.org , jako například D - Bus nebo PulseAudio , jichž využívají obě hlavní desktopová prostředí [E1] GNOME [/E1] a KDE a každé z nich nabízí grafické rozhraní napsané pomocí příslušné sady nástrojů [E2] GTK + [/E2] nebo Qt .\n",
      "  ->  GNOME other GTK +\n",
      "   other\n",
      "Kateřinin syn , král Karel IX . na podnět své matky a vévody de Guise nechává v noci 24 . srpna 1572 vyvraždit všechny hugenoty v [E2] Paříži [/E2] ( událost vstoupila do dějin jako [E1] Bartolomějská noc [/E1] ) , svatební hostina je přímo ideální , jelikož v Královském paláci Louvre je díky svatbě mnoho lidí .\n",
      "  ->  Bartolomějská noc lokace Paříži\n",
      "   lokace\n",
      "V roce 2009 dokončila společně se svou dcerou [E2] Kasiou Adamik [/E2] film [E1] Jánošík – Pravdivá historie [/E1] .\n",
      "  ->  Jánošík – Pravdivá historie other Kasiou Adamik\n",
      "   other\n",
      "Film byl natočen volně podle námětu z knihy [E1] Jamese Gradyho [/E1] [E2] Šest dnů Kondora [/E2] .\n",
      "  ->  Jamese Gradyho dílo Šest dnů Kondora\n",
      "   dílo\n"
     ]
    }
   ],
   "source": [
    "import re\n",
    "\n",
    "for example in devset[:10]:\n",
    "    print(\" \".join(example[\"Sentence\"]))\n",
    "    print(\"  -> \", example[\"Readable\"])\n",
    "    print(\"  \", labels[example[\"Rel\"]])"
   ]
  },
  {
   "cell_type": "code",
   "execution_count": null,
   "metadata": {},
   "outputs": [],
   "source": []
  }
 ],
 "metadata": {
  "kernelspec": {
   "display_name": "Python 3.9.15 ('venv': venv)",
   "language": "python",
   "name": "python3"
  },
  "language_info": {
   "codemirror_mode": {
    "name": "ipython",
    "version": 3
   },
   "file_extension": ".py",
   "mimetype": "text/x-python",
   "name": "python",
   "nbconvert_exporter": "python",
   "pygments_lexer": "ipython3",
   "version": "3.9.15"
  },
  "orig_nbformat": 4,
  "vscode": {
   "interpreter": {
    "hash": "3d1851355f3e25260f791d112b972f58a531da14676dad1990cec0f78398efcf"
   }
  }
 },
 "nbformat": 4,
 "nbformat_minor": 2
}
